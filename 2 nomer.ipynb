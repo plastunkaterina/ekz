{
 "cells": [
  {
   "cell_type": "code",
   "execution_count": 40,
   "id": "48984b8c",
   "metadata": {},
   "outputs": [],
   "source": [
    "# bfgs algorithm local optimization of a convex function\n",
    "from scipy.optimize import minimize\n",
    "from numpy.random import rand\n",
    "import numpy as np\n",
    " "
   ]
  },
  {
   "cell_type": "code",
   "execution_count": 41,
   "id": "3aa2d629",
   "metadata": {},
   "outputs": [],
   "source": [
    "# objective function\n",
    "def objective(x):\n",
    "    return -3*x[0]*np.sin(0.75*x[0])+np.exp(-2*x[0])\n",
    "\n",
    "def derivative(x):\n",
    "    return (-2*np.exp(-2*x[0]))-(9*np.cos((3*x[0])/4)*x[0])/4-3*np.sin((3*x[0])/4)"
   ]
  },
  {
   "cell_type": "code",
   "execution_count": 42,
   "id": "6c6afa36",
   "metadata": {},
   "outputs": [],
   "source": [
    "# define range for input\n",
    "r_min, r_max = 0, 6.28"
   ]
  },
  {
   "cell_type": "code",
   "execution_count": 43,
   "id": "6ac77403",
   "metadata": {},
   "outputs": [],
   "source": [
    "# define the starting point as a random sample from the domain\n",
    "pt = r_min + rand(1) * (r_max - r_min)"
   ]
  },
  {
   "cell_type": "code",
   "execution_count": 44,
   "id": "bb67f640",
   "metadata": {},
   "outputs": [
    {
     "name": "stdout",
     "output_type": "stream",
     "text": [
      "Status : Optimization terminated successfully.\n",
      "Total Evaluations: 10\n",
      "Solution: f([2.70647558]) = -7.27436\n"
     ]
    }
   ],
   "source": [
    "# perform the bfgs algorithm search\n",
    "result = minimize(objective, pt, method='BFGS', jac=derivative)\n",
    "# summarize the result\n",
    "print('Status : %s' % result['message'])\n",
    "print('Total Evaluations: %d' % result['nfev'])\n",
    "# evaluate solution\n",
    "solution = result['x']\n",
    "evaluation = objective(solution)\n",
    "print('Solution: f(%s) = %.5f' % (solution, evaluation))"
   ]
  },
  {
   "cell_type": "code",
   "execution_count": null,
   "id": "949518e7",
   "metadata": {},
   "outputs": [],
   "source": []
  },
  {
   "cell_type": "code",
   "execution_count": null,
   "id": "7a96a66d",
   "metadata": {},
   "outputs": [],
   "source": []
  }
 ],
 "metadata": {
  "kernelspec": {
   "display_name": "Python 3",
   "language": "python",
   "name": "python3"
  },
  "language_info": {
   "codemirror_mode": {
    "name": "ipython",
    "version": 3
   },
   "file_extension": ".py",
   "mimetype": "text/x-python",
   "name": "python",
   "nbconvert_exporter": "python",
   "pygments_lexer": "ipython3",
   "version": "3.8.8"
  }
 },
 "nbformat": 4,
 "nbformat_minor": 5
}
