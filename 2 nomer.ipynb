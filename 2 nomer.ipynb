{
 "cells": [
  {
   "cell_type": "code",
   "execution_count": 89,
   "id": "74c0cae4",
   "metadata": {},
   "outputs": [],
   "source": [
    "# bfgs algorithm local optimization of a convex function\n",
    "from scipy.optimize import minimize\n",
    "from numpy.random import rand\n",
    "import numpy as np\n",
    " "
   ]
  },
  {
   "cell_type": "code",
   "execution_count": 90,
   "id": "e229aa44",
   "metadata": {},
   "outputs": [],
   "source": [
    "# objective function\n",
    "def objective(x):\n",
    "    return -3*x[0]*np.sin(0.75*x[0])+np.exp(-2*x[0])\n",
    "\n",
    "def derivative(x):\n",
    "    return (-2*np.exp(-2*x[0]))-(9*np.cos((3*x[0])/4)*x[0])/4-3*np.sin((3*x[0])/4)"
   ]
  },
  {
   "cell_type": "code",
   "execution_count": 91,
   "id": "045df572",
   "metadata": {},
   "outputs": [],
   "source": [
    "# define range for input\n",
    "r_min, r_max = 0, 6.28"
   ]
  },
  {
   "cell_type": "code",
   "execution_count": 92,
   "id": "e6a7a085",
   "metadata": {},
   "outputs": [],
   "source": [
    "# define the starting point as a random sample from the domain\n",
    "pt = r_min + rand(1) * (r_max - r_min)"
   ]
  },
  {
   "cell_type": "code",
   "execution_count": 86,
   "id": "96394a21",
   "metadata": {},
   "outputs": [
    {
     "name": "stdout",
     "output_type": "stream",
     "text": [
      "Status : Optimization terminated successfully.\n",
      "Total Evaluations: 8\n",
      "Solution: f([2.70647559]) = -7.27436\n"
     ]
    }
   ],
   "source": [
    "# perform the bfgs algorithm search\n",
    "result = minimize(objective, pt, method='BFGS', jac=derivative)\n",
    "# summarize the result\n",
    "print('Status : %s' % result['message'])\n",
    "print('Total Evaluations: %d' % result['nfev'])\n",
    "# evaluate solution\n",
    "solution = result['x']\n",
    "evaluation = objective(solution)\n",
    "print('Solution: f(%s) = %.5f' % (solution, evaluation))"
   ]
  },
  {
   "cell_type": "code",
   "execution_count": 97,
   "id": "4f799513",
   "metadata": {},
   "outputs": [],
   "source": [
    "x = np.array([0, 1, 2.1,2.2,2.3,2.4,2.5,2.6,2.7,2.8,2.9, 3, 3.1, 3.2, 3.3, 3.4, 3.5, 3 4, 5.1, 5.2, 5.3, 5.4, 5.5, 6.28], float)"
   ]
  },
  {
   "cell_type": "code",
   "execution_count": 98,
   "id": "e74c2b5a",
   "metadata": {},
   "outputs": [
    {
     "data": {
      "image/png": "[encoded data removed]",
      "text/plain": [
       "<Figure size 432x288 with 1 Axes>"
      ]
     },
     "metadata": {
      "needs_background": "light"
     },
     "output_type": "display_data"
    }
   ],
   "source": [
    "plt.plot(x,-3*x*np.sin(0.75*x)+np.exp(-2*x),'r')\n",
    "plt.scatter(solution, evaluation)\n",
    "plt.show()"
   ]
  },
  {
   "cell_type": "code",
   "execution_count": null,
   "id": "0f985dd6",
   "metadata": {},
   "outputs": [],
   "source": []
  },
  {
   "cell_type": "code",
   "execution_count": null,
   "id": "b6a81469",
   "metadata": {},
   "outputs": [],
   "source": []
  }
 ],
 "metadata": {
  "kernelspec": {
   "display_name": "Python 3",
   "language": "python",
   "name": "python3"
  },
  "language_info": {
   "codemirror_mode": {
    "name": "ipython",
    "version": 3
   },
   "file_extension": ".py",
   "mimetype": "text/x-python",
   "name": "python",
   "nbconvert_exporter": "python",
   "pygments_lexer": "ipython3",
   "version": "3.8.8"
  }
 },
 "nbformat": 4,
 "nbformat_minor": 5
}
